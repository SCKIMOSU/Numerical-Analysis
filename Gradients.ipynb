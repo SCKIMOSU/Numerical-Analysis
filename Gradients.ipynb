https://github.com/rickiepark/first-steps-with-tensorflow/blob/master/special_notes/Gradients.ipynb 
